{
 "cells": [
  {
   "cell_type": "code",
   "execution_count": 9,
   "id": "08aee8de-ebab-4364-a61c-54d4a560ea86",
   "metadata": {},
   "outputs": [
    {
     "name": "stdout",
     "output_type": "stream",
     "text": [
      "Clases     Fa       Fr       F acumulada \n",
      "------     ---      ---      ----------- \n",
      " América   8        26.666666666666668 26.666666666666668\n",
      " Chivas    5        16.666666666666664 43.33333333333333\n",
      " Necaxa    2        6.666666666666667 49.99999999999999\n",
      " Pumas     8        26.666666666666668 76.66666666666666\n",
      " Santos    3        10.0     86.66666666666666\n",
      " Toluca    4        13.333333333333334 99.99999999999999\n"
     ]
    },
    {
     "ename": "NameError",
     "evalue": "name 'plt' is not defined",
     "output_type": "error",
     "traceback": [
      "\u001b[1;31m---------------------------------------------------------------------------\u001b[0m",
      "\u001b[1;31mNameError\u001b[0m                                 Traceback (most recent call last)",
      "Cell \u001b[1;32mIn[9], line 24\u001b[0m\n\u001b[0;32m     22\u001b[0m data \u001b[38;5;241m=\u001b[39m fa_ord\n\u001b[0;32m     23\u001b[0m marcas_texto \u001b[38;5;241m=\u001b[39m clases_ord\n\u001b[1;32m---> 24\u001b[0m \u001b[43mgraf_pastel\u001b[49m\u001b[38;5;241;43m.\u001b[39;49m\u001b[43mobt_graf_pastel\u001b[49m\u001b[43m(\u001b[49m\u001b[43mdata\u001b[49m\u001b[43m,\u001b[49m\u001b[43m \u001b[49m\u001b[43mmarcas_texto\u001b[49m\u001b[43m)\u001b[49m\n",
      "File \u001b[1;32m~\\Documents\\examenT1\\IMOVerano2024T1\\ejercicio7\\grafpastel.py:3\u001b[0m, in \u001b[0;36mobt_graf_pastel\u001b[1;34m(datos, marcas_texto)\u001b[0m\n\u001b[0;32m      1\u001b[0m \u001b[38;5;28;01mdef\u001b[39;00m \u001b[38;5;21mobt_graf_pastel\u001b[39m(datos, marcas_texto):\n\u001b[0;32m      2\u001b[0m     separaciones \u001b[38;5;241m=\u001b[39m [\u001b[38;5;241m0\u001b[39m] \u001b[38;5;241m*\u001b[39m \u001b[38;5;28mlen\u001b[39m(datos)  \u001b[38;5;66;03m# Lista de ceros del mismo tamaño que datos\u001b[39;00m\n\u001b[1;32m----> 3\u001b[0m     \u001b[43mplt\u001b[49m\u001b[38;5;241m.\u001b[39mfigure(figsize\u001b[38;5;241m=\u001b[39m(\u001b[38;5;241m8\u001b[39m, \u001b[38;5;241m8\u001b[39m))\n\u001b[0;32m      4\u001b[0m     plt\u001b[38;5;241m.\u001b[39mpie(datos, \n\u001b[0;32m      5\u001b[0m             explode\u001b[38;5;241m=\u001b[39mseparaciones,  \n\u001b[0;32m      6\u001b[0m             counterclock\u001b[38;5;241m=\u001b[39m\u001b[38;5;28;01mFalse\u001b[39;00m, \n\u001b[1;32m   (...)\u001b[0m\n\u001b[0;32m     10\u001b[0m             colors\u001b[38;5;241m=\u001b[39m[\u001b[38;5;124m\"\u001b[39m\u001b[38;5;124m#EF90F1\u001b[39m\u001b[38;5;124m\"\u001b[39m, \u001b[38;5;124m\"\u001b[39m\u001b[38;5;124m#90E7F1\u001b[39m\u001b[38;5;124m\"\u001b[39m, \u001b[38;5;124m\"\u001b[39m\u001b[38;5;124m#D8B4EF\u001b[39m\u001b[38;5;124m\"\u001b[39m, \u001b[38;5;124m\"\u001b[39m\u001b[38;5;124m#C7EFB4\u001b[39m\u001b[38;5;124m\"\u001b[39m, \u001b[38;5;124m\"\u001b[39m\u001b[38;5;124m#EFB4C7\u001b[39m\u001b[38;5;124m\"\u001b[39m, \u001b[38;5;124m\"\u001b[39m\u001b[38;5;124m#EFE4B4\u001b[39m\u001b[38;5;124m\"\u001b[39m], \n\u001b[0;32m     11\u001b[0m             labels\u001b[38;5;241m=\u001b[39mmarcas_texto)\n\u001b[0;32m     12\u001b[0m     plt\u001b[38;5;241m.\u001b[39mtitle(\u001b[38;5;124m\"\u001b[39m\u001b[38;5;124mGrafico de pastel\u001b[39m\u001b[38;5;124m\"\u001b[39m, fontsize\u001b[38;5;241m=\u001b[39m\u001b[38;5;241m20\u001b[39m)\n",
      "\u001b[1;31mNameError\u001b[0m: name 'plt' is not defined"
     ]
    }
   ],
   "source": [
    "import matplotlib.pyplot as plt\n",
    "import ejercicio7.clasefa as obt_datos\n",
    "import ejercicio7.classfa as ord_data\n",
    "import ejercicio7.frcr as obt_fr\n",
    "import ejercicio7.crfacu as obt_facu\n",
    "import ejercicio7.tabla as mostrar_tabla\n",
    "import ejercicio7.grafpastel as graf_pastel\n",
    "\n",
    "arreglo = ['Pumas', 'América', 'Chivas', 'Pumas', 'Chivas',\n",
    "  'Chivas', 'América', 'Toluca', 'Toluca', 'Pumas',\n",
    "  'Santos', 'Necaxa', 'América', 'América', 'América',\n",
    "  'Pumas', 'Santos', 'Pumas', 'Pumas', 'Pumas',\n",
    "  'América', 'Chivas', 'América', 'Pumas', 'Necaxa',\n",
    "  'Toluca', 'Chivas', 'América', 'Toluca', 'Santos']\n",
    "clases, fa = obt_datos.clases_fa(arreglo)\n",
    "clases_ord, fa_ord = ord_data.ord_data(clases, fa)\n",
    "fr = obt_fr.obt_fr(fa_ord)\n",
    "facum = obt_facu.obt_fac(fr)\n",
    "mostrar_tabla.imprimir_tabla(clases_ord, fa_ord, fr, facum)\n",
    "\n",
    "# grafica pastel\n",
    "data = fa_ord\n",
    "marcas_texto = clases_ord\n",
    "graf_pastel.obt_graf_pastel(data, marcas_texto)"
   ]
  }
 ],
 "metadata": {
  "kernelspec": {
   "display_name": "Python 3 (ipykernel)",
   "language": "python",
   "name": "python3"
  },
  "language_info": {
   "codemirror_mode": {
    "name": "ipython",
    "version": 3
   },
   "file_extension": ".py",
   "mimetype": "text/x-python",
   "name": "python",
   "nbconvert_exporter": "python",
   "pygments_lexer": "ipython3",
   "version": "3.12.4"
  }
 },
 "nbformat": 4,
 "nbformat_minor": 5
}
