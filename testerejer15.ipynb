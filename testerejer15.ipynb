{
 "cells": [
  {
   "cell_type": "code",
   "execution_count": 28,
   "id": "1698935d-8c42-4bbe-9a3c-1801bcc4c08e",
   "metadata": {},
   "outputs": [
    {
     "name": "stdout",
     "output_type": "stream",
     "text": [
      "Clases     Fa       Fr       F acumulada \n",
      "------     ---      ---      ----------- \n",
      " Ramírez   1        100.00   100.0       \n"
     ]
    }
   ],
   "source": [
    "import ejercicio15.clasefa as generar_class_fa\n",
    "import ejercicio15.clasefaord as ord_fa_clase\n",
    "import ejercicio15.genfr as crear_fr\n",
    "import ejercicio15.genfacum as crear_facum\n",
    "import ejercicio15.tabla as mostrar_tabla\n",
    "\n",
    "arr  = ['Ramírez', 'García', 'González', 'Rodríguez', 'Pérez', 'Martínez', 'García', 'López', 'Gutiérrez', 'López', \n",
    "            'Martínez', 'Rodríguez', 'Hernández', 'García', 'González', 'Ramírez', 'Pérez', 'Sánchez', 'Rodríguez', 'Martínez', \n",
    "            'Ramírez', 'Pérez', 'Rodríguez', 'Sánchez', 'González', 'López', 'Martínez', 'García', 'Sánchez', 'Hernández', \n",
    "            'Flores', 'Pérez', 'González', 'Martínez', 'Hernández', 'García', 'Gutiérrez', 'Sánchez', 'Flores', 'García', \n",
    "            'Martínez', 'Hernández', 'Sánchez', 'Martínez', 'García', 'Hernández', 'Ramírez', 'López', 'Sánchez', 'Hernández', \n",
    "            'García', 'Gutiérrez']\n",
    "clases, frecuencias = generar_class_fa.gen_class_fa(arr)\n",
    "clases_ordenadas, frecuencia_ordenada = ord_fa_clase.clases_fa_ord(clases, frecuencias)\n",
    "frecuencia_r = crear_fr.gen_fr(frecuencia_ordenada)\n",
    "frecuencia_acumulada = crear_facum.fec_acum(frecuencia_r)\n",
    "\n",
    "mostrar_tabla.imprimir_tabla(clases_ordenadas, frecuencia_ordenada, frecuencia_r, frecuencia_acumulada)"
   ]
  }
 ],
 "metadata": {
  "kernelspec": {
   "display_name": "Python 3 (ipykernel)",
   "language": "python",
   "name": "python3"
  },
  "language_info": {
   "codemirror_mode": {
    "name": "ipython",
    "version": 3
   },
   "file_extension": ".py",
   "mimetype": "text/x-python",
   "name": "python",
   "nbconvert_exporter": "python",
   "pygments_lexer": "ipython3",
   "version": "3.12.4"
  }
 },
 "nbformat": 4,
 "nbformat_minor": 5
}
